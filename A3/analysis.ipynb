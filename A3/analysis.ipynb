{
 "cells": [
  {
   "cell_type": "code",
   "execution_count": 1,
   "metadata": {},
   "outputs": [],
   "source": [
    "import numpy as np\n",
    "import pandas as pd\n",
    "import networkx as nx\n",
    "import matplotlib.pyplot as plt\n",
    "import matplotlib\n",
    "import torch\n",
    "import torch_geometric\n",
    "from torch_geometric.loader import DataLoader\n",
    "from torch_geometric.data import Data"
   ]
  },
  {
   "cell_type": "code",
   "execution_count": 2,
   "metadata": {},
   "outputs": [],
   "source": [
    "# Load data from csv files\n",
    "\n",
    "dataset = 2\n",
    "ef1 = np.loadtxt(\"dataset/dataset_\"+str(dataset)+\"/train/edge_features.csv.gz\", dtype=float, delimiter=',')\n",
    "e1 = np.loadtxt(\"dataset/dataset_\"+str(dataset)+\"/train/edges.csv.gz\", dtype=int, delimiter=',')\n",
    "gl1 = np.nan_to_num(np.loadtxt(\"dataset/dataset_\"+str(dataset)+\"/train/graph_labels.csv.gz\", dtype=float, delimiter=','), nan=1)\n",
    "nf1 = np.loadtxt(\"dataset/dataset_\"+str(dataset)+\"/train/node_features.csv.gz\", dtype=float, delimiter=',')\n",
    "num_nodes = np.loadtxt(\"dataset/dataset_\"+str(dataset)+\"/train/num_nodes.csv.gz\", dtype=int, delimiter=',')\n",
    "num_edges = np.loadtxt(\"dataset/dataset_\"+str(dataset)+\"/train/num_edges.csv.gz\", dtype=int, delimiter=',')"
   ]
  },
  {
   "cell_type": "code",
   "execution_count": 3,
   "metadata": {},
   "outputs": [
    {
     "name": "stdout",
     "output_type": "stream",
     "text": [
      "[[0 1 1 2 1 3 3 4 4 5 5 6 6 7 6 8 8 9 9 3]\n",
      " [1 0 2 1 3 1 4 3 5 4 6 5 7 6 8 6 9 8 3 9]]\n"
     ]
    }
   ],
   "source": [
    "i = 0\n",
    "print(e1[np.sum(num_edges[:i]) : np.sum(num_edges[:i+1]), :].T)"
   ]
  },
  {
   "cell_type": "code",
   "execution_count": 4,
   "metadata": {},
   "outputs": [],
   "source": [
    "# Visualize graph\n",
    "\n",
    "num_graphs = num_nodes.size\n",
    "start = 125\n",
    "graphs = []\n",
    "data = []\n",
    "for i in range(0, num_graphs):\n",
    "    num_node = num_nodes[i]\n",
    "    num_edge = num_edges[i]\n",
    "    edges = e1[np.sum(num_edges[:i]) : np.sum(num_edges[:i+1]), :]\n",
    "    edge_features = torch.FloatTensor(ef1[np.sum(num_edges[:i]) : np.sum(num_edges[:i+1]), :])\n",
    "    node_features = torch.FloatTensor(nf1[np.sum(num_nodes[:i]) : np.sum(num_nodes[:i+1]), :])\n",
    "    node_data = dict((j, node_features[j, :]) for j in range(num_node))\n",
    "    # print(node_data[0])\n",
    "    label = float(gl1[i])\n",
    "    G = nx.Graph(y=label)\n",
    "    G.add_nodes_from([i for i in range(num_node)])\n",
    "    for j, e in enumerate(edges):\n",
    "        G.add_edge(e[0], e[1], edge_attr=edge_features[j])\n",
    "    nx.set_node_attributes(G, node_data, name=\"X\")\n",
    "    d = Data(edge_index=edges.T, x=node_data, edge_attr=edge_features)\n",
    "    data.append(d)\n",
    "    graphs.append(G)\n",
    "\n",
    "# ---------- Code for drawing graph -----------\n",
    "\n",
    "    # pos = nx.spring_layout(G)\n",
    "    # nx.draw_networkx(G, pos=pos, with_labels=True)\n",
    "    # nx.draw_networkx_edge_labels(G, pos=pos, font_size=5, clip_on=False)\n",
    "    # print(label)\n",
    "    # plt.show()\n",
    "    # break\n",
    "\n",
    "# print(gl1)"
   ]
  },
  {
   "cell_type": "code",
   "execution_count": 5,
   "metadata": {},
   "outputs": [
    {
     "name": "stdout",
     "output_type": "stream",
     "text": [
      "<torch_geometric.loader.dataloader.DataLoader object at 0x7f338e64b0a0>\n"
     ]
    }
   ],
   "source": [
    "# Create a dataset\n",
    "# for now using a list of data objects for dataset\n",
    "\n",
    "# data = []\n",
    "# for G in graphs:\n",
    "#     # d = torch_geometric.utils.from_networkx(G)\n",
    "#     d = Data(x = G)\n",
    "#     # print(d)\n",
    "#     # k = np.max(d.edge_index.numpy())\n",
    "#     # if k > d.num_nodes-1:\n",
    "#     #     print(\"----------------------------------------\")\n",
    "#     # print(k)\n",
    "#     data.append(d)\n",
    "\n",
    "size = len(data)\n",
    "\n",
    "# consider first 80% as test data and next 20% as validation data\n",
    "train_size = 0.8\n",
    "X_train = data[:int(train_size*size)]\n",
    "X_val = data[int(train_size*size):]\n",
    "\n",
    "# Get dataloader\n",
    "\n",
    "# batch size for mini-batch optimization\n",
    "\n",
    "batch_size = 100\n",
    "\n",
    "loader = DataLoader(X_train, batch_size=batch_size, shuffle=True)\n",
    "print(loader)\n"
   ]
  },
  {
   "cell_type": "code",
   "execution_count": 6,
   "metadata": {},
   "outputs": [],
   "source": [
    "from torch_geometric.nn import GCNConv\n",
    "from torch_geometric.nn.pool import global_mean_pool\n",
    "import torch.nn.functional as F"
   ]
  },
  {
   "cell_type": "code",
   "execution_count": 7,
   "metadata": {},
   "outputs": [],
   "source": [
    "# Basic GCN implementation\n",
    "\n",
    "if torch.cuda.is_available():\n",
    "    device = torch.device('cuda')\n",
    "elif hasattr(torch.backends, 'mps') and torch.backends.mps.is_available():\n",
    "    device = torch.device('mps')\n",
    "else:\n",
    "    device = torch.device('cpu')\n",
    "\n",
    "\n",
    "class GCN(torch.nn.Module):\n",
    "    def __init__(self, in_channels, hidden_channels, out_channels):\n",
    "        super().__init__()\n",
    "        self.conv1 = GCNConv(in_channels, hidden_channels, cached=True, bias=None)\n",
    "        self.conv2 = GCNConv(hidden_channels, out_channels, cached=True, bias=None)\n",
    "        self.edge_linear = torch.nn.Linear(3, 1)\n",
    "        # self.fc = torch.nn.Linear(hidden_channels, out_channels)\n",
    "        # self.batch = batch\n",
    "\n",
    "    def forward(self, x, edge_index, edge_attr, batch, size):\n",
    "        temp = self.edge_linear(edge_attr)\n",
    "        x = self.conv1(x, edge_index, temp).relu()\n",
    "        x = self.conv2(x, edge_index, temp).relu()\n",
    "        x = global_mean_pool(x, batch, size)\n",
    "        print(x)\n",
    "        x = F.sigmoid(x)\n",
    "        # x = x[root_mask, :]\n",
    "        return x"
   ]
  },
  {
   "cell_type": "code",
   "execution_count": 8,
   "metadata": {},
   "outputs": [],
   "source": [
    "model = GCN(9, 50, 1)\n",
    "# model, data = model.to(device), data.to(device)\n",
    "# model = model.to(device)\n",
    "\n",
    "optimizer = torch.optim.Adam([\n",
    "    dict(params=model.conv1.parameters(), weight_decay=0),\n",
    "    dict(params=model.conv2.parameters(), weight_decay=0),\n",
    "    dict(params=model.edge_linear.parameters(), weight_decay=0)\n",
    "],lr=0.001)"
   ]
  },
  {
   "cell_type": "code",
   "execution_count": 15,
   "metadata": {},
   "outputs": [
    {
     "name": "stdout",
     "output_type": "stream",
     "text": [
      "hello\n"
     ]
    },
    {
     "ename": "KeyError",
     "evalue": "4",
     "output_type": "error",
     "traceback": [
      "\u001b[0;31m---------------------------------------------------------------------------\u001b[0m",
      "\u001b[0;31mKeyError\u001b[0m                                  Traceback (most recent call last)",
      "\u001b[1;32m/home/parth/sem 7/COL761/A3/analysis.ipynb Cell 9\u001b[0m line \u001b[0;36m4\n\u001b[1;32m      <a href='vscode-notebook-cell:/home/parth/sem%207/COL761/A3/analysis.ipynb#X11sZmlsZQ%3D%3D?line=1'>2</a>\u001b[0m \u001b[39mprint\u001b[39m(\u001b[39m\"\u001b[39m\u001b[39mhello\u001b[39m\u001b[39m\"\u001b[39m)\n\u001b[1;32m      <a href='vscode-notebook-cell:/home/parth/sem%207/COL761/A3/analysis.ipynb#X11sZmlsZQ%3D%3D?line=2'>3</a>\u001b[0m loss_fun \u001b[39m=\u001b[39m torch\u001b[39m.\u001b[39mnn\u001b[39m.\u001b[39mBCELoss()\n\u001b[0;32m----> <a href='vscode-notebook-cell:/home/parth/sem%207/COL761/A3/analysis.ipynb#X11sZmlsZQ%3D%3D?line=3'>4</a>\u001b[0m \u001b[39mfor\u001b[39;00m i, batch \u001b[39min\u001b[39;00m \u001b[39menumerate\u001b[39m(loader):\n\u001b[1;32m      <a href='vscode-notebook-cell:/home/parth/sem%207/COL761/A3/analysis.ipynb#X11sZmlsZQ%3D%3D?line=4'>5</a>\u001b[0m     \u001b[39mprint\u001b[39m(\u001b[39m1\u001b[39m)\n\u001b[1;32m      <a href='vscode-notebook-cell:/home/parth/sem%207/COL761/A3/analysis.ipynb#X11sZmlsZQ%3D%3D?line=5'>6</a>\u001b[0m     model\u001b[39m.\u001b[39mtrain()\n",
      "File \u001b[0;32m~/.local/lib/python3.10/site-packages/torch/utils/data/dataloader.py:633\u001b[0m, in \u001b[0;36m_BaseDataLoaderIter.__next__\u001b[0;34m(self)\u001b[0m\n\u001b[1;32m    630\u001b[0m \u001b[39mif\u001b[39;00m \u001b[39mself\u001b[39m\u001b[39m.\u001b[39m_sampler_iter \u001b[39mis\u001b[39;00m \u001b[39mNone\u001b[39;00m:\n\u001b[1;32m    631\u001b[0m     \u001b[39m# TODO(https://github.com/pytorch/pytorch/issues/76750)\u001b[39;00m\n\u001b[1;32m    632\u001b[0m     \u001b[39mself\u001b[39m\u001b[39m.\u001b[39m_reset()  \u001b[39m# type: ignore[call-arg]\u001b[39;00m\n\u001b[0;32m--> 633\u001b[0m data \u001b[39m=\u001b[39m \u001b[39mself\u001b[39;49m\u001b[39m.\u001b[39;49m_next_data()\n\u001b[1;32m    634\u001b[0m \u001b[39mself\u001b[39m\u001b[39m.\u001b[39m_num_yielded \u001b[39m+\u001b[39m\u001b[39m=\u001b[39m \u001b[39m1\u001b[39m\n\u001b[1;32m    635\u001b[0m \u001b[39mif\u001b[39;00m \u001b[39mself\u001b[39m\u001b[39m.\u001b[39m_dataset_kind \u001b[39m==\u001b[39m _DatasetKind\u001b[39m.\u001b[39mIterable \u001b[39mand\u001b[39;00m \\\n\u001b[1;32m    636\u001b[0m         \u001b[39mself\u001b[39m\u001b[39m.\u001b[39m_IterableDataset_len_called \u001b[39mis\u001b[39;00m \u001b[39mnot\u001b[39;00m \u001b[39mNone\u001b[39;00m \u001b[39mand\u001b[39;00m \\\n\u001b[1;32m    637\u001b[0m         \u001b[39mself\u001b[39m\u001b[39m.\u001b[39m_num_yielded \u001b[39m>\u001b[39m \u001b[39mself\u001b[39m\u001b[39m.\u001b[39m_IterableDataset_len_called:\n",
      "File \u001b[0;32m~/.local/lib/python3.10/site-packages/torch/utils/data/dataloader.py:677\u001b[0m, in \u001b[0;36m_SingleProcessDataLoaderIter._next_data\u001b[0;34m(self)\u001b[0m\n\u001b[1;32m    675\u001b[0m \u001b[39mdef\u001b[39;00m \u001b[39m_next_data\u001b[39m(\u001b[39mself\u001b[39m):\n\u001b[1;32m    676\u001b[0m     index \u001b[39m=\u001b[39m \u001b[39mself\u001b[39m\u001b[39m.\u001b[39m_next_index()  \u001b[39m# may raise StopIteration\u001b[39;00m\n\u001b[0;32m--> 677\u001b[0m     data \u001b[39m=\u001b[39m \u001b[39mself\u001b[39;49m\u001b[39m.\u001b[39;49m_dataset_fetcher\u001b[39m.\u001b[39;49mfetch(index)  \u001b[39m# may raise StopIteration\u001b[39;00m\n\u001b[1;32m    678\u001b[0m     \u001b[39mif\u001b[39;00m \u001b[39mself\u001b[39m\u001b[39m.\u001b[39m_pin_memory:\n\u001b[1;32m    679\u001b[0m         data \u001b[39m=\u001b[39m _utils\u001b[39m.\u001b[39mpin_memory\u001b[39m.\u001b[39mpin_memory(data, \u001b[39mself\u001b[39m\u001b[39m.\u001b[39m_pin_memory_device)\n",
      "File \u001b[0;32m~/.local/lib/python3.10/site-packages/torch/utils/data/_utils/fetch.py:54\u001b[0m, in \u001b[0;36m_MapDatasetFetcher.fetch\u001b[0;34m(self, possibly_batched_index)\u001b[0m\n\u001b[1;32m     52\u001b[0m \u001b[39melse\u001b[39;00m:\n\u001b[1;32m     53\u001b[0m     data \u001b[39m=\u001b[39m \u001b[39mself\u001b[39m\u001b[39m.\u001b[39mdataset[possibly_batched_index]\n\u001b[0;32m---> 54\u001b[0m \u001b[39mreturn\u001b[39;00m \u001b[39mself\u001b[39;49m\u001b[39m.\u001b[39;49mcollate_fn(data)\n",
      "File \u001b[0;32m~/.local/lib/python3.10/site-packages/torch_geometric/loader/dataloader.py:20\u001b[0m, in \u001b[0;36mCollater.__call__\u001b[0;34m(self, batch)\u001b[0m\n\u001b[1;32m     18\u001b[0m elem \u001b[39m=\u001b[39m batch[\u001b[39m0\u001b[39m]\n\u001b[1;32m     19\u001b[0m \u001b[39mif\u001b[39;00m \u001b[39misinstance\u001b[39m(elem, BaseData):\n\u001b[0;32m---> 20\u001b[0m     \u001b[39mreturn\u001b[39;00m Batch\u001b[39m.\u001b[39;49mfrom_data_list(batch, \u001b[39mself\u001b[39;49m\u001b[39m.\u001b[39;49mfollow_batch,\n\u001b[1;32m     21\u001b[0m                                 \u001b[39mself\u001b[39;49m\u001b[39m.\u001b[39;49mexclude_keys)\n\u001b[1;32m     22\u001b[0m \u001b[39melif\u001b[39;00m \u001b[39misinstance\u001b[39m(elem, torch\u001b[39m.\u001b[39mTensor):\n\u001b[1;32m     23\u001b[0m     \u001b[39mreturn\u001b[39;00m default_collate(batch)\n",
      "File \u001b[0;32m~/.local/lib/python3.10/site-packages/torch_geometric/data/batch.py:76\u001b[0m, in \u001b[0;36mBatch.from_data_list\u001b[0;34m(cls, data_list, follow_batch, exclude_keys)\u001b[0m\n\u001b[1;32m     64\u001b[0m \u001b[39m@classmethod\u001b[39m\n\u001b[1;32m     65\u001b[0m \u001b[39mdef\u001b[39;00m \u001b[39mfrom_data_list\u001b[39m(\u001b[39mcls\u001b[39m, data_list: List[BaseData],\n\u001b[1;32m     66\u001b[0m                    follow_batch: Optional[List[\u001b[39mstr\u001b[39m]] \u001b[39m=\u001b[39m \u001b[39mNone\u001b[39;00m,\n\u001b[1;32m     67\u001b[0m                    exclude_keys: Optional[List[\u001b[39mstr\u001b[39m]] \u001b[39m=\u001b[39m \u001b[39mNone\u001b[39;00m):\n\u001b[1;32m     68\u001b[0m \u001b[39m    \u001b[39m\u001b[39mr\u001b[39m\u001b[39m\"\"\"Constructs a :class:`~torch_geometric.data.Batch` object from a\u001b[39;00m\n\u001b[1;32m     69\u001b[0m \u001b[39m    Python list of :class:`~torch_geometric.data.Data` or\u001b[39;00m\n\u001b[1;32m     70\u001b[0m \u001b[39m    :class:`~torch_geometric.data.HeteroData` objects.\u001b[39;00m\n\u001b[0;32m   (...)\u001b[0m\n\u001b[1;32m     73\u001b[0m \u001b[39m    :obj:`follow_batch`.\u001b[39;00m\n\u001b[1;32m     74\u001b[0m \u001b[39m    Will exclude any keys given in :obj:`exclude_keys`.\"\"\"\u001b[39;00m\n\u001b[0;32m---> 76\u001b[0m     batch, slice_dict, inc_dict \u001b[39m=\u001b[39m collate(\n\u001b[1;32m     77\u001b[0m         \u001b[39mcls\u001b[39;49m,\n\u001b[1;32m     78\u001b[0m         data_list\u001b[39m=\u001b[39;49mdata_list,\n\u001b[1;32m     79\u001b[0m         increment\u001b[39m=\u001b[39;49m\u001b[39mTrue\u001b[39;49;00m,\n\u001b[1;32m     80\u001b[0m         add_batch\u001b[39m=\u001b[39;49m\u001b[39mnot\u001b[39;49;00m \u001b[39misinstance\u001b[39;49m(data_list[\u001b[39m0\u001b[39;49m], Batch),\n\u001b[1;32m     81\u001b[0m         follow_batch\u001b[39m=\u001b[39;49mfollow_batch,\n\u001b[1;32m     82\u001b[0m         exclude_keys\u001b[39m=\u001b[39;49mexclude_keys,\n\u001b[1;32m     83\u001b[0m     )\n\u001b[1;32m     85\u001b[0m     batch\u001b[39m.\u001b[39m_num_graphs \u001b[39m=\u001b[39m \u001b[39mlen\u001b[39m(data_list)\n\u001b[1;32m     86\u001b[0m     batch\u001b[39m.\u001b[39m_slice_dict \u001b[39m=\u001b[39m slice_dict\n",
      "File \u001b[0;32m~/.local/lib/python3.10/site-packages/torch_geometric/data/collate.py:85\u001b[0m, in \u001b[0;36mcollate\u001b[0;34m(cls, data_list, increment, add_batch, follow_batch, exclude_keys)\u001b[0m\n\u001b[1;32m     82\u001b[0m     \u001b[39mcontinue\u001b[39;00m\n\u001b[1;32m     84\u001b[0m \u001b[39m# Collate attributes into a unified representation:\u001b[39;00m\n\u001b[0;32m---> 85\u001b[0m value, slices, incs \u001b[39m=\u001b[39m _collate(attr, values, data_list, stores,\n\u001b[1;32m     86\u001b[0m                                increment)\n\u001b[1;32m     88\u001b[0m \u001b[39mif\u001b[39;00m \u001b[39misinstance\u001b[39m(value, Tensor) \u001b[39mand\u001b[39;00m value\u001b[39m.\u001b[39mis_cuda:\n\u001b[1;32m     89\u001b[0m     device \u001b[39m=\u001b[39m value\u001b[39m.\u001b[39mdevice\n",
      "File \u001b[0;32m~/.local/lib/python3.10/site-packages/torch_geometric/data/collate.py:191\u001b[0m, in \u001b[0;36m_collate\u001b[0;34m(key, values, data_list, stores, increment)\u001b[0m\n\u001b[1;32m    188\u001b[0m     value_dict, slice_dict, inc_dict \u001b[39m=\u001b[39m {}, {}, {}\n\u001b[1;32m    189\u001b[0m     \u001b[39mfor\u001b[39;00m key \u001b[39min\u001b[39;00m elem\u001b[39m.\u001b[39mkeys():\n\u001b[1;32m    190\u001b[0m         value_dict[key], slice_dict[key], inc_dict[key] \u001b[39m=\u001b[39m _collate(\n\u001b[0;32m--> 191\u001b[0m             key, [v[key] \u001b[39mfor\u001b[39;00m v \u001b[39min\u001b[39;00m values], data_list, stores, increment)\n\u001b[1;32m    192\u001b[0m     \u001b[39mreturn\u001b[39;00m value_dict, slice_dict, inc_dict\n\u001b[1;32m    194\u001b[0m \u001b[39melif\u001b[39;00m (\u001b[39misinstance\u001b[39m(elem, Sequence) \u001b[39mand\u001b[39;00m \u001b[39mnot\u001b[39;00m \u001b[39misinstance\u001b[39m(elem, \u001b[39mstr\u001b[39m)\n\u001b[1;32m    195\u001b[0m       \u001b[39mand\u001b[39;00m \u001b[39mlen\u001b[39m(elem) \u001b[39m>\u001b[39m \u001b[39m0\u001b[39m \u001b[39mand\u001b[39;00m \u001b[39misinstance\u001b[39m(elem[\u001b[39m0\u001b[39m], (Tensor, SparseTensor))):\n\u001b[1;32m    196\u001b[0m     \u001b[39m# Recursively collate elements of lists.\u001b[39;00m\n",
      "File \u001b[0;32m~/.local/lib/python3.10/site-packages/torch_geometric/data/collate.py:191\u001b[0m, in \u001b[0;36m<listcomp>\u001b[0;34m(.0)\u001b[0m\n\u001b[1;32m    188\u001b[0m     value_dict, slice_dict, inc_dict \u001b[39m=\u001b[39m {}, {}, {}\n\u001b[1;32m    189\u001b[0m     \u001b[39mfor\u001b[39;00m key \u001b[39min\u001b[39;00m elem\u001b[39m.\u001b[39mkeys():\n\u001b[1;32m    190\u001b[0m         value_dict[key], slice_dict[key], inc_dict[key] \u001b[39m=\u001b[39m _collate(\n\u001b[0;32m--> 191\u001b[0m             key, [v[key] \u001b[39mfor\u001b[39;00m v \u001b[39min\u001b[39;00m values], data_list, stores, increment)\n\u001b[1;32m    192\u001b[0m     \u001b[39mreturn\u001b[39;00m value_dict, slice_dict, inc_dict\n\u001b[1;32m    194\u001b[0m \u001b[39melif\u001b[39;00m (\u001b[39misinstance\u001b[39m(elem, Sequence) \u001b[39mand\u001b[39;00m \u001b[39mnot\u001b[39;00m \u001b[39misinstance\u001b[39m(elem, \u001b[39mstr\u001b[39m)\n\u001b[1;32m    195\u001b[0m       \u001b[39mand\u001b[39;00m \u001b[39mlen\u001b[39m(elem) \u001b[39m>\u001b[39m \u001b[39m0\u001b[39m \u001b[39mand\u001b[39;00m \u001b[39misinstance\u001b[39m(elem[\u001b[39m0\u001b[39m], (Tensor, SparseTensor))):\n\u001b[1;32m    196\u001b[0m     \u001b[39m# Recursively collate elements of lists.\u001b[39;00m\n",
      "\u001b[0;31mKeyError\u001b[0m: 4"
     ]
    }
   ],
   "source": [
    "# model.train()\n",
    "print(\"hello\")\n",
    "loss_fun = torch.nn.BCELoss()\n",
    "for i, batch in enumerate(loader):\n",
    "    print(1)\n",
    "    model.train()\n",
    "    optimizer.zero_grad()\n",
    "    # batch = next(iter(loader))\n",
    "    batch.to(device)\n",
    "    print(batch)\n",
    "    print(np.max(batch.edge_index.numpy()))\n",
    "    out = model(batch.X, batch.edge_index, batch.edge_attr, batch.batch, batch.y.shape[0])\n",
    "    # print(out)\n",
    "    # print(batch.y)\n",
    "    loss = loss_fun(out.reshape(1,-1), batch.y.reshape(1,-1))\n",
    "    loss.backward()\n",
    "    optimizer.step()\n",
    "    print(float(loss))\n"
   ]
  }
 ],
 "metadata": {
  "kernelspec": {
   "display_name": "Python 3",
   "language": "python",
   "name": "python3"
  },
  "language_info": {
   "codemirror_mode": {
    "name": "ipython",
    "version": 3
   },
   "file_extension": ".py",
   "mimetype": "text/x-python",
   "name": "python",
   "nbconvert_exporter": "python",
   "pygments_lexer": "ipython3",
   "version": "3.10.12"
  }
 },
 "nbformat": 4,
 "nbformat_minor": 2
}
